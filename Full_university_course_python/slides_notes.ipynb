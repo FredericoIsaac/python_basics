{
 "metadata": {
  "language_info": {
   "codemirror_mode": {
    "name": "ipython",
    "version": 3
   },
   "file_extension": ".py",
   "mimetype": "text/x-python",
   "name": "python",
   "nbconvert_exporter": "python",
   "pygments_lexer": "ipython3",
   "version": 3
  },
  "orig_nbformat": 2
 },
 "nbformat": 4,
 "nbformat_minor": 2,
 "cells": [
  {
   "source": [
    "Source: https://www.py4e.com/lectures3/"
   ],
   "cell_type": "markdown",
   "metadata": {}
  },
  {
   "source": [
    "## Python 3 and Unicode\n",
    "\n",
    "* In Python 3, all strings internally are Unicode\n",
    "* When we talk to a network resource using sockets or talk to a database we have to encode and decode data (usually to UTF-8)\n",
    "    * UTF-8 - 1-4 bytes:\n",
    "        * Upwards compatible with ASCII\n",
    "        * Automatic detection between ASCII and UTF-8\n",
    "        * UTF-8 is recommended practice for encoding data to be exchange between systems\n",
    "* When we talk to an external resource like a network socket we send bytes, so we need to encode Python 3 strings into a given character encoding"
   ],
   "cell_type": "markdown",
   "metadata": {}
  },
  {
   "cell_type": "code",
   "execution_count": null,
   "metadata": {},
   "outputs": [],
   "source": [
    "while True:\n",
    "    data = mysock.recv(512) \n",
    "    if (len(data) < 1): # When no more data to read\n",
    "        break\n",
    "    mystring = data.decode()\n",
    "    print(mystring)"
   ]
  },
  {
   "source": [
    "bytearray.decode(encoding=\"utf-8\", errors=\"strict\"):\n",
    "\n",
    "* Return a string decoded from the given bytes. The default errors is strict, meaning that encoding errors raise a *UnicodeError*\n",
    "\n",
    "str.encode(encoding=\"utf-8\", errors=\"strict\"):\n",
    "\n",
    "* Return an encoded version of the string as bytes object."
   ],
   "cell_type": "markdown",
   "metadata": {}
  },
  {
   "source": [
    "## Object Oriented\n",
    "\n",
    "* A program is made up of many cooperating objects\n",
    "* Instead of being the \"whole program\" - each object is a little \"island\" within the program and cooperatively working with other objects\n",
    "* A program is made up of one or more objects working together - objects make use of each other's capabilities\n",
    "\n",
    "### Object\n",
    "\n",
    "* An object is a bit of self-contained code and data\n",
    "* A key aspect of the object approach is to break the problem into smaller understandable parts (divide and conquer)\n",
    "* Objects have boundaries that allow us to ignore un-needed detail\n",
    "\n",
    "#### Definitions\n",
    "\n",
    "* Class - a template\n",
    "* Method or Message - A defined capability of a class\n",
    "* Field or attribute - A bit of data in a class\n",
    "* Object or Instance - A particular instance of a class\n",
    "\n",
    "### Object Lifecycle\n",
    "\n",
    "* Objects are created, used, and discarded\n",
    "* We have special blocks of code (methods) that get called\n",
    "    * At the moment of creation (constructor)\n",
    "    * At the moment of destruction (destructor)\n",
    "\n",
    "### Constructor\n",
    "\n",
    "The primary purpose of the constructor is to set up some instance variables to have the proper initial values when the object is created.\n",
    "\n",
    "* The constructor and destructor are optional\n",
    "* The constructor is typically used to set up variables\n",
    "* The destructor is seldom used"
   ],
   "cell_type": "markdown",
   "metadata": {}
  },
  {
   "cell_type": "code",
   "execution_count": null,
   "metadata": {},
   "outputs": [],
   "source": [
    "class PartyAnimal:\n",
    "    x = 0\n",
    "\n",
    "    def __init__(self):\n",
    "        print(\"I am constructed\")\n",
    "    def __del__(self):\n",
    "        print(\"I am destructed\", self.x)\n",
    "an = PartyAnimal()\n"
   ]
  },
  {
   "source": [
    "## Inheritance\n",
    "\n",
    "\"Subclasses\" are more specialized version of a class, which *inherit* attributes and behaviors from their parent classes, and can introduce their own.\n",
    "\n",
    "* When we make a new class - we can reuse an existing class and *inherit* all the capabilities of an existing class and then add our own little bit to make our new class\n",
    "* The new class (child) has all the capabilitiesof the old class (parent) - and then some more"
   ],
   "cell_type": "markdown",
   "metadata": {}
  },
  {
   "source": [
    "## SQL Summary\n",
    "\n",
    "INSERT INTO Users (name, email) VALUES (\"Kristin\", \"kf@umich.edu\")\n",
    "\n",
    "DELETE FROM Users WHERE email=\"ted@umich.edu\"\n",
    "\n",
    "UPDATE Users SET name=\"Charles\" WHERE email=\"csev@umich.edu\"\n",
    "\n",
    "SELECT * FROM Users\n",
    "\n",
    "SELECT * FROM Users WHERE email=\"csev@umich.edu\"\n",
    "\n",
    "SELECT * FROM Users ORDER BY email\n",
    "\n",
    "## Building a Data Model\n",
    "\n",
    "* Drawing a picture of the data objects for our application and then figuring out how to represent the objects and their relationships\n",
    "* Basic Rule: Don't put the same string data in twice - use a relationship instead\n",
    "* When there is one thing in the \"real world\" there should be one copy of that thing in the database\n",
    "\n",
    "### Representing relationships in a database\n",
    "\n",
    "* Do not replicate data - reference data - point at data\n",
    "* Use integers for keys and for references\n",
    "* Add a special \"key\" column to each table which we will make references to. By convention, many programmers call this column \"id\"\n",
    "\n",
    "### Three kinds of keys\n",
    "\n",
    "* Primary key - generally an integer auto-increment field\n",
    "* Logical key - What the outside world uses for lookup\n",
    "* Foreign key - generally an integer key pointing to a row in another table\n",
    "    * a foreign key is when a table has a column that contains a key which points to the primary key of another table\n",
    "    * When all primary keys are integers, then all foreign keys are integers - this is good - very good\n",
    "\n",
    "### Many to many\n",
    "\n",
    "One <- Many, is where exists in a way one hierarchy, one mom can have many sons, but a son can only have one mother\n",
    "\n",
    "Many <- Many <- Many, one book can have multiple authors and authors can have multiple books\n",
    "\n",
    "![database_relationships_diagram](https://docs.magento.com/mbi/images/4_DB_Chart.png)"
   ],
   "cell_type": "markdown",
   "metadata": {}
  }
 ]
}