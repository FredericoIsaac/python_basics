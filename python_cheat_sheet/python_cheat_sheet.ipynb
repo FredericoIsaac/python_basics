{
 "metadata": {
  "language_info": {
   "codemirror_mode": {
    "name": "ipython",
    "version": 3
   },
   "file_extension": ".py",
   "mimetype": "text/x-python",
   "name": "python",
   "nbconvert_exporter": "python",
   "pygments_lexer": "ipython3",
   "version": "3.7.6-final"
  },
  "orig_nbformat": 2,
  "kernelspec": {
   "name": "Python 3.7.6 64-bit ('base': conda)",
   "display_name": "Python 3.7.6 64-bit ('base': conda)",
   "metadata": {
    "interpreter": {
     "hash": "8b7956f056717f9751108d1773c0c2497ab856d1dd724e1ce15f78701bca2838"
    }
   }
  }
 },
 "nbformat": 4,
 "nbformat_minor": 2,
 "cells": [
  {
   "source": [
    "Source: https://blog.finxter.com/"
   ],
   "cell_type": "markdown",
   "metadata": {}
  },
  {
   "source": [
    "is - Checks whether both elements point to the same object (memory)"
   ],
   "cell_type": "markdown",
   "metadata": {}
  },
  {
   "cell_type": "code",
   "execution_count": 21,
   "metadata": {},
   "outputs": [
    {
     "output_type": "stream",
     "name": "stdout",
     "text": [
      "True\nFalse\n"
     ]
    }
   ],
   "source": [
    "y = x = 3\n",
    "print(x is y)\n",
    "print([3] is [3])"
   ]
  },
  {
   "source": [
    "map(func, iter) - Executes the function on all elements of the iterable"
   ],
   "cell_type": "markdown",
   "metadata": {}
  },
  {
   "cell_type": "code",
   "execution_count": 22,
   "metadata": {},
   "outputs": [
    {
     "output_type": "execute_result",
     "data": {
      "text/plain": [
       "['r', 'g', 'b']"
      ]
     },
     "metadata": {},
     "execution_count": 22
    }
   ],
   "source": [
    "list(map(lambda x: x[0], [\"red\", \"green\", \"blue\"]))"
   ]
  },
  {
   "source": [
    "help(func) - Returns documentation of func\n",
    "\n",
    "help(str.upper())"
   ],
   "cell_type": "markdown",
   "metadata": {}
  },
  {
   "source": [
    "Swapping numbers:"
   ],
   "cell_type": "markdown",
   "metadata": {}
  },
  {
   "source": [
    "a, b = \"Jane\", \"Alice\"\n",
    "a,b = b, a\n",
    "print(a,b)"
   ],
   "cell_type": "code",
   "metadata": {},
   "execution_count": 23,
   "outputs": [
    {
     "output_type": "stream",
     "name": "stdout",
     "text": [
      "Alice Jane\n"
     ]
    }
   ]
  },
  {
   "source": [
    "Extended Unpacking - Use unpacking for multiple assignment feature in Python"
   ],
   "cell_type": "markdown",
   "metadata": {}
  },
  {
   "cell_type": "code",
   "execution_count": 24,
   "metadata": {},
   "outputs": [
    {
     "output_type": "stream",
     "name": "stdout",
     "text": [
      "1, [2, 3, 4, 5]\n"
     ]
    }
   ],
   "source": [
    "a, *b = [1,2,3,4,5]\n",
    "print(a, b, sep=\", \")"
   ]
  },
  {
   "source": [
    "Merge two dict - Use unpacking to merge two dictionaries into a single one"
   ],
   "cell_type": "markdown",
   "metadata": {}
  },
  {
   "cell_type": "code",
   "execution_count": 25,
   "metadata": {},
   "outputs": [
    {
     "output_type": "stream",
     "name": "stdout",
     "text": [
      "{'Alice': 18, 'Bob': 27, 'Ann': 22}\n"
     ]
    }
   ],
   "source": [
    "x = {\"Alice\": 18}\n",
    "y = {\"Bob\": 27, \"Ann\": 22}\n",
    "z = {**x, **y}\n",
    "print(z)"
   ]
  },
  {
   "source": [
    "abs() -  returns the absolute value of the given number"
   ],
   "cell_type": "markdown",
   "metadata": {}
  },
  {
   "cell_type": "code",
   "execution_count": 26,
   "metadata": {},
   "outputs": [
    {
     "output_type": "stream",
     "name": "stdout",
     "text": [
      "3.0\n"
     ]
    }
   ],
   "source": [
    "print(abs(-3.0))"
   ]
  },
  {
   "source": [
    "Classes - A class encapsulates data and functionality: data as attributes, and functionality as methods\n",
    "\n",
    "Instance - You are an instance of the class human. An instance is a concrete implementation of a class: all atributes of an instance have a fixed value.\n",
    "\n",
    "Self - The first argument when defining any method is always the self argument. This argument specifies the instance on which you call the method."
   ],
   "cell_type": "markdown",
   "metadata": {}
  },
  {
   "source": [
    "Check if two strings are anagrams:"
   ],
   "cell_type": "markdown",
   "metadata": {}
  },
  {
   "cell_type": "code",
   "execution_count": 27,
   "metadata": {},
   "outputs": [
    {
     "output_type": "stream",
     "name": "stdout",
     "text": [
      "True\n"
     ]
    }
   ],
   "source": [
    "def is_anagram(s1, s2):\n",
    "    return set(s1) == set(s2)\n",
    "print(is_anagram(\"elvis\", \"lives\"))"
   ]
  },
  {
   "source": [
    "Check if a string is a palindrome:"
   ],
   "cell_type": "markdown",
   "metadata": {}
  },
  {
   "cell_type": "code",
   "execution_count": 28,
   "metadata": {},
   "outputs": [
    {
     "output_type": "stream",
     "name": "stdout",
     "text": [
      "True\n"
     ]
    }
   ],
   "source": [
    "def is_palindrome(phrase):\n",
    "    return phrase == phrase[::-1]\n",
    "print(is_palindrome(\"ana\"))"
   ]
  },
  {
   "cell_type": "code",
   "execution_count": null,
   "metadata": {},
   "outputs": [],
   "source": []
  }
 ]
}