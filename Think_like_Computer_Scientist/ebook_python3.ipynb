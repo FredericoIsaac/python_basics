{
 "metadata": {
  "language_info": {
   "codemirror_mode": {
    "name": "ipython",
    "version": 3
   },
   "file_extension": ".py",
   "mimetype": "text/x-python",
   "name": "python",
   "nbconvert_exporter": "python",
   "pygments_lexer": "ipython3",
   "version": "3.7.6-final"
  },
  "orig_nbformat": 2,
  "kernelspec": {
   "name": "Python 3.7.6 64-bit ('base': conda)",
   "display_name": "Python 3.7.6 64-bit ('base': conda)",
   "metadata": {
    "interpreter": {
     "hash": "8b7956f056717f9751108d1773c0c2497ab856d1dd724e1ce15f78701bca2838"
    }
   }
  }
 },
 "nbformat": 4,
 "nbformat_minor": 2,
 "cells": [
  {
   "source": [
    "Source: http://openbookproject.net/thinkcs/python/english3e/"
   ],
   "cell_type": "markdown",
   "metadata": {}
  },
  {
   "source": [
    "# Chapter 1 - The way of the program\n",
    "\n",
    "## 1.8 Formal and natural Languages\n",
    "\n",
    "Syntax rules come in two flavors, pertaining to *tokens* and structure. Tokens are the basic elements of the language, such as words, numbers, parenthesis, commas, and so on. In Python, a statement like *print(\"happy new year for \", 2013)* has 6 tokens: a function name, an open parenthesis (round bracket), a string, a comma, a number, and a close parenthesis.\n",
    "\n",
    "The second type of syntax rule pertains to the structure of a statement— that is, the way the tokens are arranged, if we omitted the comma, or if we changed the two parentheses around to say print)\"Happy New Year for \",2013( our statement would still have six legal and valid tokens, but the structure is illegal.\n"
   ],
   "cell_type": "markdown",
   "metadata": {}
  },
  {
   "source": [
    "# Chapter 2 - Variables, expressions and statements\n",
    "\n",
    "## 2.6 Operators and operands\n",
    "\n",
    "Floor division uses the token //. Its result is always a whole number — and if it has to adjust the number it always moves it to the left on the number line.\n"
   ],
   "cell_type": "markdown",
   "metadata": {}
  },
  {
   "cell_type": "code",
   "execution_count": 11,
   "metadata": {},
   "outputs": [
    {
     "output_type": "stream",
     "name": "stdout",
     "text": [
      "1.75\n1\n"
     ]
    }
   ],
   "source": [
    "print(7 / 4)\n",
    "print(7 // 4)"
   ]
  },
  {
   "source": [
    "## 2.8 Order of Operations\n",
    "\n",
    "When more than one operator appears in an expression, the order of evaluation depends on the rules of precedence.\n",
    "\n",
    "The acronym PEMDAS is: \n",
    "\n",
    "* Parentheses have the highest precedence\n",
    "* Exponentiation has the next highest precedence\n",
    "* Multiplication and both Division operators have the same precedence\n",
    "* Operators with the same precedence are evaluated from left-to-right.\n",
    "    * Due to some historical quirk, an exception to the left-to-right left-associative rule is the exponentiation operator **, so a useful hint is to always use parentheses to force exactly the order you want when exponentiation is involved:"
   ],
   "cell_type": "markdown",
   "metadata": {}
  },
  {
   "cell_type": "code",
   "execution_count": 12,
   "metadata": {},
   "outputs": [
    {
     "output_type": "stream",
     "name": "stdout",
     "text": [
      "512\n64\n"
     ]
    }
   ],
   "source": [
    "print(2 ** 3 ** 2)     # The right-most ** operator gets done first!\n",
    "print((2 ** 3) ** 2)   # Use parentheses to force the order you want!"
   ]
  },
  {
   "source": [
    "## 2.12. The modulus operator\n",
    "\n",
    "The modulus operator turns out to be surprisingly useful. For example, you can check whether one number is divisible by another—if x % y is zero, then x is divisible by y.\n",
    "\n",
    "Also, you can extract the right-most digit or digits from a number. For example, x % 10 yields the right-most digit of x (in base 10). Similarly x % 100 yields the last two digits."
   ],
   "cell_type": "markdown",
   "metadata": {}
  },
  {
   "source": [
    "# Chapter 3 Hello, little turtles!\n",
    "\n",
    "* canvas - A surface within a window where drawing takes place.\n",
    "* instance - An object of a certain type, or class. tess and alex are different instances of the class Turtle.\n",
    "* method - A function that is attached to an object. Invoking or activating the method causes the object to respond in some way, e.g. forward is the method when we say tess.forward(100).\n",
    "* invoke - An object has methods. We use the verb invoke to mean activate the method. Invoking a method is done by putting parentheses after the method name, with some possible arguments. So tess.forward() is an invocation of the forward method."
   ],
   "cell_type": "markdown",
   "metadata": {}
  },
  {
   "source": [
    "# Chapter 4 Functions\n",
    "\n",
    "## 4.1 Functions\n",
    "\n",
    "Docstrings for documentation:\n",
    "\n",
    "Need to know what arguments our function takes, what it does, and what the expected result is. Enough to be able to use the function without having to look underneath. This goes back to the concept of abstraction of which we’ll talk more about.\n",
    "\n",
    "Docstrings are usually formed using triple-quoted strings as they allow us to easily expand the docstring later on should we want to write more than a one-liner.\n"
   ],
   "cell_type": "markdown",
   "metadata": {}
  },
  {
   "source": [
    "# Chapter 5 Conditionals\n",
    "\n",
    "## Logical Opposites\n",
    "\n",
    "Two powerful simplification laws (called de Morgan’s laws) that are often helpful when dealing with complicated Boolean expressions are:\n",
    "\n",
    "    not (x and y)  ==  (not x) or (not y)\n",
    "    not (x or y)   ==  (not x) and (not y)\n"
   ],
   "cell_type": "markdown",
   "metadata": {}
  },
  {
   "source": [
    "# Chapter 6 Fruitful functions\n",
    "\n",
    "fruitful function - A function that yields a return value instead of None.\n",
    "\n",
    "## 6.3 Debugging with print\n",
    "\n",
    "* Work on solving the problem on a piece of paper (perhaps using a flowchart to record the steps you take) before you concern yourself with writing code.\n",
    "* Do not write chatterbox functions. A chatterbox is a fruitful function that, in addition to its primary task, also asks the user for input, or prints output, when it would be more useful if it simply shut up and did its work quietly.\n",
    "\n",
    "## 6.5 Boolean functions\n",
    "\n",
    "It is common to give Boolean functions names that sound like yes/no questions. is_divisible returns either True or False to indicate whether the x is or is not divisible by y.\n",
    "\n",
    "## 6.6 Programming with style\n",
    "\n",
    "Python Enhancement Proposal 8 (PEP 8), a style guide developed by the Python community.\n",
    "\n",
    "We’ll have more to say about style as our programs become more complex, but a few pointers will be helpful already:\n",
    "\n",
    "* limit line length to 78 characters\n",
    "* when naming identifiers, use CamelCase for classes (we’ll get to those) and lowercase_with_underscores for functons and variables\n",
    "* place imports at the top of the file\n",
    "* keep function definitions together\n",
    "* use docstrings to document functions\n",
    "* use two blank lines to separate function definitions from each other\n",
    "* keep top level statements, including function calls, together at the bottom of the program\n",
    "\n",
    "## 6.7. Unit testing\n",
    "\n",
    "Extra code in your program which is there because it makes debugging or testing easier is called scaffolding.\n",
    "\n",
    "A collection of tests for some code is called its test suite.\n",
    "\n",
    "There are a few different ways to do unit testing in Python — but at this stage we’re going to ignore what the Python community usually does, and we’re going to start with two functions that we’ll write ourselves. We’ll use these for writing our unit tests."
   ],
   "cell_type": "markdown",
   "metadata": {}
  },
  {
   "cell_type": "code",
   "execution_count": 13,
   "metadata": {},
   "outputs": [],
   "source": [
    "import sys\n",
    "\n",
    "def test(did_pass):\n",
    "    \"\"\"  Print the result of a test.  \"\"\"\n",
    "    linenum = sys._getframe(1).f_lineno   # Get the caller's line number.\n",
    "    if did_pass:\n",
    "        msg = \"Test at line {0} ok.\".format(linenum)\n",
    "    else:\n",
    "        msg = (\"Test at line {0} FAILED.\".format(linenum))\n",
    "    print(msg)"
   ]
  },
  {
   "source": [
    "But with this function written, we can proceed to construct our test suite:"
   ],
   "cell_type": "markdown",
   "metadata": {}
  },
  {
   "cell_type": "code",
   "execution_count": 14,
   "metadata": {},
   "outputs": [
    {
     "output_type": "error",
     "ename": "NameError",
     "evalue": "name 'absolute_value' is not defined",
     "traceback": [
      "\u001b[1;31m---------------------------------------------------------------------------\u001b[0m",
      "\u001b[1;31mNameError\u001b[0m                                 Traceback (most recent call last)",
      "\u001b[1;32m<ipython-input-14-d292e3edf751>\u001b[0m in \u001b[0;36m<module>\u001b[1;34m\u001b[0m\n\u001b[0;32m      8\u001b[0m     \u001b[0mtest\u001b[0m\u001b[1;33m(\u001b[0m\u001b[0mabsolute_value\u001b[0m\u001b[1;33m(\u001b[0m\u001b[1;33m-\u001b[0m\u001b[1;36m3.14\u001b[0m\u001b[1;33m)\u001b[0m \u001b[1;33m==\u001b[0m \u001b[1;36m3.14\u001b[0m\u001b[1;33m)\u001b[0m\u001b[1;33m\u001b[0m\u001b[1;33m\u001b[0m\u001b[0m\n\u001b[0;32m      9\u001b[0m \u001b[1;33m\u001b[0m\u001b[0m\n\u001b[1;32m---> 10\u001b[1;33m \u001b[0mtest_suite\u001b[0m\u001b[1;33m(\u001b[0m\u001b[1;33m)\u001b[0m        \u001b[1;31m# Here is the call to run the tests\u001b[0m\u001b[1;33m\u001b[0m\u001b[1;33m\u001b[0m\u001b[0m\n\u001b[0m",
      "\u001b[1;32m<ipython-input-14-d292e3edf751>\u001b[0m in \u001b[0;36mtest_suite\u001b[1;34m()\u001b[0m\n\u001b[0;32m      2\u001b[0m     \"\"\" Run the suite of tests for code in this module (this file).\n\u001b[0;32m      3\u001b[0m     \"\"\"\n\u001b[1;32m----> 4\u001b[1;33m     \u001b[0mtest\u001b[0m\u001b[1;33m(\u001b[0m\u001b[0mabsolute_value\u001b[0m\u001b[1;33m(\u001b[0m\u001b[1;36m17\u001b[0m\u001b[1;33m)\u001b[0m \u001b[1;33m==\u001b[0m \u001b[1;36m17\u001b[0m\u001b[1;33m)\u001b[0m\u001b[1;33m\u001b[0m\u001b[1;33m\u001b[0m\u001b[0m\n\u001b[0m\u001b[0;32m      5\u001b[0m     \u001b[0mtest\u001b[0m\u001b[1;33m(\u001b[0m\u001b[0mabsolute_value\u001b[0m\u001b[1;33m(\u001b[0m\u001b[1;33m-\u001b[0m\u001b[1;36m17\u001b[0m\u001b[1;33m)\u001b[0m \u001b[1;33m==\u001b[0m \u001b[1;36m17\u001b[0m\u001b[1;33m)\u001b[0m\u001b[1;33m\u001b[0m\u001b[1;33m\u001b[0m\u001b[0m\n\u001b[0;32m      6\u001b[0m     \u001b[0mtest\u001b[0m\u001b[1;33m(\u001b[0m\u001b[0mabsolute_value\u001b[0m\u001b[1;33m(\u001b[0m\u001b[1;36m0\u001b[0m\u001b[1;33m)\u001b[0m \u001b[1;33m==\u001b[0m \u001b[1;36m0\u001b[0m\u001b[1;33m)\u001b[0m\u001b[1;33m\u001b[0m\u001b[1;33m\u001b[0m\u001b[0m\n",
      "\u001b[1;31mNameError\u001b[0m: name 'absolute_value' is not defined"
     ]
    }
   ],
   "source": [
    "def test_suite():\n",
    "    \"\"\" Run the suite of tests for code in this module (this file).\n",
    "    \"\"\"\n",
    "    test(absolute_value(17) == 17)\n",
    "    test(absolute_value(-17) == 17)\n",
    "    test(absolute_value(0) == 0)\n",
    "    test(absolute_value(3.14) == 3.14)\n",
    "    test(absolute_value(-3.14) == 3.14)\n",
    "\n",
    "test_suite()        # Here is the call to run the tests"
   ]
  },
  {
   "source": [
    "# Chapter 7 Iteration\n",
    "\n",
    "## 7.9. Help and meta-notation\n",
    "\n",
    "    range([start,]stop[,step])\n",
    "\n",
    "Notice the square brackets in the description of the arguments. These are examples of meta-notation — notation that describes Python syntax, but is not part of it. The square brackets in this documentation mean that the argument is optional — the programmer can omit it. So what this first line of help tells us is that range must always have a stop argument, but it may have an optional start argument (which must be followed by a comma if it is present), and it can also have an optional step argument, preceded by a comma if it is present.\n",
    "\n",
    "Other meta-notation you’ll frequently encounter is the use of bold and italics. The bold means that these are tokens — keywords or symbols — typed into your Python code exactly as they are, whereas the italic terms stand for “something of this type”. So the syntax description\n",
    "\n",
    "    for variable in list :\n",
    "    \n",
    "means you can substitute any legal variable and any legal list when you write your Python code.\n",
    "\n",
    "## 7.13. More encapsulation\n",
    "\n",
    "Encapsulation is the process of wrapping a piece of code in a function\n",
    "\n",
    "This process is a common development plan. We develop code by writing lines of code outside any function, or typing them in to the interpreter. When we get the code working, we extract it and wrap it up in a function.\n",
    "\n",
    "This development plan is particularly useful if you don’t know how to divide the program into functions when you start writing. This approach lets you design as you go along.\n",
    "\n",
    "## 7.17. An example\n",
    " \n",
    "    input(\"\\n\\nGreat, you got it in {0} guesses!\\n\\n\".format(guesses))\n",
    "\n",
    "There is a call to the input function, but we don’t do anything with the result, not even assign it to a variable. This is legal in Python. Here it has the effect of popping up the input dialog window and waiting for the user to respond before the program terminates. Programmers often use the trick of doing some extra input at the end of a script, just to keep the window open.\n"
   ],
   "cell_type": "markdown",
   "metadata": {}
  },
  {
   "source": [
    "# Chapter 8 Strings\n",
    "\n",
    "## 8.16. The string format method\n"
   ],
   "cell_type": "markdown",
   "metadata": {}
  },
  {
   "cell_type": "code",
   "execution_count": null,
   "metadata": {},
   "outputs": [],
   "source": [
    "n1 = \"Paris\"\n",
    "n2 = \"Whitney\"\n",
    "n3 = \"Hilton\"\n",
    "\n",
    "print(\"Pi to three decimal places is {0:.3f}\".format(3.1415926))\n",
    "print(\"123456789 123456789 123456789 123456789 123456789 123456789\")\n",
    "print(\"|||{0:<15}|||{1:^15}|||{2:>15}|||Born in {3}|||\"\n",
    "        .format(n1,n2,n3,1981))\n",
    "print(\"The decimal value {0} converts to hex value {0:x}\"\n",
    "        .format(123456))"
   ]
  },
  {
   "source": [
    "# Chapter 9 Tuples\n",
    "\n",
    "## 9.1. Tuples are used for grouping data\n",
    "\n",
    "This is an example of a data structure — a mechanism for grouping and organizing data to make it easier to use.\n",
    "\n",
    "To create a tuple with a single element:\n",
    "\n",
    "    >>> tup = (5,)\n",
    "    >>> type(tup)\n",
    "    <class 'tuple'>\n",
    "\n",
    "## 9.2. Tuple assignment\n",
    "\n",
    "In tuple packing, the values on the left are ‘packed’ together in a tuple:"
   ],
   "cell_type": "markdown",
   "metadata": {}
  },
  {
   "cell_type": "code",
   "execution_count": null,
   "metadata": {},
   "outputs": [],
   "source": [
    "b = (\"Bob\", 19, \"CS\")    # tuple packing"
   ]
  },
  {
   "source": [
    "In tuple unpacking, the values in a tuple on the right are ‘unpacked’ into the variables/names on the right:"
   ],
   "cell_type": "markdown",
   "metadata": {}
  },
  {
   "cell_type": "code",
   "execution_count": 10,
   "metadata": {},
   "outputs": [
    {
     "output_type": "stream",
     "name": "stdout",
     "text": [
      "Bob\n19\nCS\n"
     ]
    }
   ],
   "source": [
    "b = (\"Bob\", 19, \"CS\")\n",
    "(name, age, studies) = b    # tuple unpacking\n",
    "print(name)\n",
    "print(age)\n",
    "print(studies)"
   ]
  },
  {
   "source": [
    "Once in a while, it is useful to swap the values of two variables:"
   ],
   "cell_type": "markdown",
   "metadata": {}
  },
  {
   "cell_type": "code",
   "execution_count": 17,
   "metadata": {},
   "outputs": [
    {
     "output_type": "stream",
     "name": "stdout",
     "text": [
      "2 1\n"
     ]
    }
   ],
   "source": [
    "a, b = 1, 2\n",
    "temp = a\n",
    "a = b\n",
    "b = temp\n",
    "a, b = 1, 2\n",
    "(a, b) = (b, a)\n",
    "print(a,b)"
   ]
  },
  {
   "source": [
    "## 9.3. Tuples as return values\n",
    "\n",
    "Functions can always only return a single value, but by making that value a tuple, we can effectively group together as many values as we like, and return them together."
   ],
   "cell_type": "markdown",
   "metadata": {}
  },
  {
   "source": [
    "# Chapter 11 Lists\n",
    "\n",
    "## Lists are mutable\n",
    "\n",
    "With the slice operator we can update a whole sublist at once:"
   ],
   "cell_type": "markdown",
   "metadata": {}
  },
  {
   "cell_type": "code",
   "execution_count": null,
   "metadata": {},
   "outputs": [],
   "source": [
    "a_list = [\"a\", \"b\", \"c\", \"d\", \"e\", \"f\"]\n",
    "a_list[1:3] = [\"x\", \"y\"]\n",
    "print(a_list)"
   ]
  },
  {
   "source": [
    "We can also remove elements from a list by assigning an empty list to them:"
   ],
   "cell_type": "markdown",
   "metadata": {}
  },
  {
   "cell_type": "code",
   "execution_count": null,
   "metadata": {},
   "outputs": [],
   "source": [
    "a_list = [\"a\", \"b\", \"c\", \"d\", \"e\", \"f\"]\n",
    "a_list[1:3] = []\n",
    "print(a_list)"
   ]
  },
  {
   "source": [
    "And we can add elements to a list by squeezing them into an empty slice at the desired location:"
   ],
   "cell_type": "markdown",
   "metadata": {}
  },
  {
   "cell_type": "code",
   "execution_count": 18,
   "metadata": {},
   "outputs": [
    {
     "output_type": "stream",
     "name": "stdout",
     "text": [
      "['a', 'b', 'c', 'd', 'f']\n['a', 'b', 'c', 'd', 'e', 'f']\n"
     ]
    }
   ],
   "source": [
    "a_list = [\"a\", \"d\", \"f\"]\n",
    "a_list[1:1] = [\"b\", \"c\"]\n",
    "print(a_list)\n",
    "a_list[4:4] = [\"e\"]\n",
    "print(a_list)"
   ]
  },
  {
   "source": [
    "## 11.9. Objects and references\n",
    "\n",
    "    1 a = \"banana\"\n",
    "    2 b = \"banana\"\n",
    "\n",
    "We can test whether two names refer to the same object using the is operator:\n",
    "\n",
    "    a is b\n",
    "    True\n",
    "\n",
    "Since strings are immutable, Python optimizes resources by making two names that refer to the same string value refer to the same object.\n",
    "\n",
    "## 11.10. Aliasing\n",
    "\n",
    "In this case, the state snapshot looks like this:\n",
    "\n",
    "    a -\n",
    "        -> [1, 2, 3]\n",
    "    b -\n",
    "\n",
    "Because the same list has two different names, a and b, we say that it is aliased. Changes made with one alias affect the other:\n",
    "\n",
    "    b[0] = 5\n",
    "    a\n",
    "    [5, 2, 3]\n",
    "\n",
    "## 11.11. Cloning lists\n",
    "\n",
    "The easiest way to clone a list is to use the slice operator:"
   ],
   "cell_type": "markdown",
   "metadata": {}
  },
  {
   "cell_type": "code",
   "execution_count": 19,
   "metadata": {},
   "outputs": [
    {
     "output_type": "stream",
     "name": "stdout",
     "text": [
      "[1, 2, 3]\n"
     ]
    }
   ],
   "source": [
    "a = [1, 2, 3]\n",
    "b = a[:]\n",
    "print(b)"
   ]
  },
  {
   "source": [
    "## 11.20. Matrices\n",
    "\n",
    "Nested lists are often used to represent matrices. For example, the matrix:\n",
    "\n",
    "![matrix2.png](http://openbookproject.net/thinkcs/python/english3e/_images/matrix2.png)\n",
    "\n",
    "Might be represented as:\n",
    "\n",
    "    >>> mx = [[1, 2, 3], [4, 5, 6], [7, 8, 9]]\n",
    "\n",
    "The first index selects the row, and the second index selects the column."
   ],
   "cell_type": "markdown",
   "metadata": {}
  },
  {
   "source": [
    "# Chapter 12 Modules\n",
    "\n",
    "## 12.1 Random numbers\n",
    "\n",
    "A random odd number less than 100, we could say:\n",
    "\n",
    "    r_odd = rng.randrange(1, 100, 2)\n",
    "\n",
    "Shuffle method:\n",
    "\n",
    "    rng.shuffle(cards)       # Shuffle the pack\n",
    "\n",
    "## 12.1.1. Repeatability and Testing\n",
    "\n",
    "Random number generators are based on a deterministic algorithm — repeatable and predictable. So they’re called pseudo-random generators — they are not genuinely random. They start with a seed value. Each time you ask for another random number, you’ll get one based on the current seed attribute, and the state of the seed (which is one of the attributes of the generator) will be updated.\n",
    "\n",
    "For debugging and for writing unit tests, it is convenient to have repeatability — programs that do the same thing every time they are run. We can arrange this by forcing the random number generator to be initialized with a known seed every time. (Often this is only wanted during testing — playing a game of cards where the shuffled deck was always in the same order as last time you played would get boring very rapidly!)\n",
    "\n",
    "    1 drng = random.Random(123)  # Create generator with known starting state\n",
    "    \n",
    "This alternative way of creating a random number generator gives an explicit seed value to the object. Without this argument, the system probably uses something based on the time. So grabbing some random numbers from drng today will give you precisely the same random sequence as it will tomorrow!\n",
    "\n",
    "## 12.2. The time module\n",
    "\n",
    "Whenever clock is called, it returns a floating point number representing how many seconds have elapsed since your program started running.\n",
    "\n",
    "The way to use it is to call clock and assign the result to a variable, say t0, just before you start executing the code you want to measure. Then after execution, call clock again, (this time we’ll save the result in variable t1). The difference t1-t0 is the time elapsed, and is a measure of how fast your program is running.\n"
   ],
   "cell_type": "markdown",
   "metadata": {}
  },
  {
   "cell_type": "code",
   "execution_count": null,
   "metadata": {},
   "outputs": [],
   "source": [
    "import time\n",
    "\n",
    "def do_my_sum(xs):\n",
    "    sum = 0\n",
    "    for v in xs:\n",
    "        sum += v\n",
    "    return sum\n",
    "\n",
    "sz = 10000000        # Lets have 10 million elements in the list\n",
    "testdata = range(sz)\n",
    "\n",
    "t0 = time.clock()\n",
    "my_result = do_my_sum(testdata)\n",
    "t1 = time.clock()\n",
    "print(\"my_result    = {0} (time taken = {1:.4f} seconds)\"\n",
    "        .format(my_result, t1-t0))\n",
    "\n",
    "t2 = time.clock()\n",
    "their_result = sum(testdata)\n",
    "t3 = time.clock()\n",
    "print(\"their_result = {0} (time taken = {1:.4f} seconds)\"\n",
    "        .format(their_result, t3-t2))"
   ]
  },
  {
   "source": [
    "## 12.4. Creating your own modules\n",
    "\n",
    "All we need to do to create our own modules is to save our script as a file with a .py extension. Suppose, for example, this script is saved as a file named seqtools.py:"
   ],
   "cell_type": "markdown",
   "metadata": {}
  },
  {
   "cell_type": "code",
   "execution_count": 23,
   "metadata": {},
   "outputs": [],
   "source": [
    "def remove_at(pos, seq):\n",
    "    return seq[:pos] + seq[pos+1:]"
   ]
  },
  {
   "source": [
    "We can now use our module, both in scripts we write, or in the interactive Python interpreter. To do so, we must first import the module.\n",
    "\n",
    "    >>> import seqtools\n",
    "    >>> s = \"A string!\"\n",
    "    >>> seqtools.remove_at(4, s)\n",
    "    'A sting!'"
   ],
   "cell_type": "markdown",
   "metadata": {}
  },
  {
   "source": [
    "## 12.6. Scope and lookup rules\n",
    "\n",
    "There are three important scopes in Python:\n",
    "\n",
    "* Local scope refers to identifiers declared within a function. These identifiers are kept in the namespace that belongs to the function, and each function has its own namespace.\n",
    "* Global scope refers to all the identifiers declared within the current module, or file.\n",
    "* Built-in scope refers to all the identifiers built into Python — those like range and min that can be used without having to import anything, and are (almost) always available.\n",
    "\n",
    "The innermost, or local scope, will always take precedence over the global scope, and the global scope always gets used in preference to the built-in scope.\n",
    "\n",
    "Now, a slightly more complex example:"
   ],
   "cell_type": "markdown",
   "metadata": {}
  },
  {
   "cell_type": "code",
   "execution_count": null,
   "metadata": {},
   "outputs": [],
   "source": [
    "n = 10\n",
    "m = 3\n",
    "def f(n):\n",
    "   m = 7\n",
    "   return 2*n+m\n",
    "\n",
    "print(f(5), n, m)"
   ]
  },
  {
   "source": [
    "This prints 17 10 3. The reason is that the two variables m and n in lines 1 and 2 are outside the function in the global namespace. Inside the function, new variables called n and m are created just for the duration of the execution of f. These are created in the local namespace of function f. Within the body of f, the scope lookup rules determine that we use the local variables m and n. By contrast, after we’ve returned from f, the n and m arguments to the print function refer to the original variables on lines 1 and 2, and these have not been changed in any way by executing function f.\n",
    "\n",
    "Notice too that the def puts name f into the global namespace here. So it can be called on line 7.\n",
    "\n",
    "What is the scope of the variable n on line 1? Its scope — the region in which it is visible — is lines 1, 2, 6, 7. It is hidden from view in lines 3, 4, 5 because of the local variable n."
   ],
   "cell_type": "markdown",
   "metadata": {}
  },
  {
   "source": [
    "## 12.8. Three import statement variants\n",
    "\n",
    "The first method is generally preferred:"
   ],
   "cell_type": "markdown",
   "metadata": {}
  },
  {
   "cell_type": "code",
   "execution_count": null,
   "metadata": {},
   "outputs": [],
   "source": [
    "import math\n",
    "x = math.sqrt(10)\n",
    "\n",
    "from math import cos, sin, sqrt\n",
    "x = sqrt(10)\n",
    "\n",
    "from math import *   # Import all the identifiers from math,\n",
    "                     #   adding them to the current namespace.\n",
    "x = sqrt(10)         # Use them without qualification.\n",
    "\n",
    "import math as m\n",
    "m.pi"
   ]
  },
  {
   "source": [
    "# Chapter 13 Files\n",
    "\n",
    "## 13.3. Reading a file line-at-a-time\n",
    "\n",
    "    1 mynewhandle = open(\"test.txt\", \"r\")\n",
    "    2 while True:                            # Keep reading forever\n",
    "    3     theline = mynewhandle.readline()   # Try to read next line\n",
    "    4     if len(theline) == 0:              # If there are no more lines\n",
    "    5         break                          #     leave the loop\n",
    "    6\n",
    "    7     # Now process the line we've just read\n",
    "    8     print(theline, end=\"\")\n",
    "    9\n",
    "    10 mynewhandle.close()\n",
    "\n",
    "On line 8 we suppress the newline character that print usually appends to our strings. Why? This is because the string already has its own newline: the readline method in line 3 returns everything up to and including the newline character. This also explains the end-of-file detection logic: when there are no more lines to be read from the file, readline returns an empty string — one that does not even have a newline at the end, hence its length is 0.\n",
    "\n",
    "    1 f = open(\"friends.txt\", \"r\")\n",
    "    2 xs = f.readlines()\n",
    "    3 f.close()\n",
    "\n",
    "The readlines method in line 2 reads all the lines and returns a list of the strings.\n",
    "\n",
    "## 13.5. Reading the whole file at once\n",
    "\n",
    "Another way of working with text files is to read the complete contents of the file into a string, and then to use our string-processing skills to work with the contents.\n",
    "\n",
    "    f = open(\"somefile.txt\")\n",
    "    content = f.read()\n",
    "    f.close()\n",
    "\n",
    "    words = content.split()\n",
    "    print(\"There are {0} words in the file.\".format(len(words)))\n",
    "\n",
    "## 13.6. Working with binary files\n",
    "\n",
    "Files that hold photographs, videos, zip files, executable programs, etc. are called binary files: they’re not organized into lines, and cannot be opened with a normal text editor.\n",
    "\n",
    "    f = open(\"somefile.zip\", \"rb\")\n",
    "    g = open(\"thecopy.zip\", \"wb\")"
   ],
   "cell_type": "markdown",
   "metadata": {}
  },
  {
   "source": [
    "# Chapter 14 List Algorithms\n",
    "\n",
    "## 14.1. Test-driven development\n",
    "\n",
    "Test-driven development (TDD) is a software development practice which takes these practices one step further. The key idea is that automated tests should be written first."
   ],
   "cell_type": "markdown",
   "metadata": {}
  },
  {
   "cell_type": "code",
   "execution_count": 25,
   "metadata": {},
   "outputs": [
    {
     "output_type": "stream",
     "name": "stdout",
     "text": [
      "Test at line 9 ok.\nTest at line 10 ok.\nTest at line 11 ok.\nTest at line 12 ok.\n"
     ]
    }
   ],
   "source": [
    "def search_linear(xs, target):\n",
    "    \"\"\" Find and return the index of target in sequence xs \"\"\"\n",
    "    for (i, v) in enumerate(xs):\n",
    "       if v == target:\n",
    "           return i\n",
    "    return -1\n",
    "\n",
    "friends = [\"Joe\", \"Zoe\", \"Brad\", \"Angelina\", \"Zuki\", \"Thandi\", \"Paris\"]\n",
    "test(search_linear(friends, \"Zoe\") == 1)\n",
    "test(search_linear(friends, \"Joe\") == 0)\n",
    "test(search_linear(friends, \"Paris\") == 6)\n",
    "test(search_linear(friends, \"Bill\") == -1)\n"
   ]
  },
  {
   "source": [
    "Searching all items of a sequence from first to last is called a linear search. Each time we check whether v == target we’ll call it a probe. We like to count probes as a measure of how efficient our algorithm is, and this will be a good enough indication of how long our algorithm will take to execute.\n",
    "\n",
    "## 14.3. A more realistic problem\n",
    "\n",
    "There is a powerful translate method available for strings. The idea is that one sets up desired substitutions"
   ],
   "cell_type": "markdown",
   "metadata": {}
  },
  {
   "cell_type": "code",
   "execution_count": null,
   "metadata": {},
   "outputs": [],
   "source": [
    "def text_to_words(the_text):\n",
    "    \"\"\" return a list of words with all punctuation removed,\n",
    "        and all in lowercase.\n",
    "    \"\"\"\n",
    "\n",
    "    my_substitutions = the_text.maketrans(\n",
    "      # If you find any of these\n",
    "      \"ABCDEFGHIJKLMNOPQRSTUVWXYZ0123456789!\\\"#$%&()*+,-./:;<=>?@[]^_`{|}~'\\\\\",\n",
    "      # Replace them by these\n",
    "      \"abcdefghijklmnopqrstuvwxyz                                          \")\n",
    "\n",
    "    # Translate the text now.\n",
    "    cleaned_text = the_text.translate(my_substitutions)\n",
    "    wds = cleaned_text.split()\n",
    "    return wds"
   ]
  },
  {
   "source": [
    "## 14.4. Binary Search\n",
    "\n",
    "Note that if the items are not ordered, you have little choice other than to look through all of them. But, if we know the items are in order, we can improve our searching technique\n",
    "\n",
    "Example of more tests:\n",
    "\n",
    "    xs = [2,3,5,7,11,13,17,23,29,31,37,43,47,53]\n",
    "    test(search_binary(xs, 20) == -1)\n",
    "    test(search_binary(xs, 99) == -1)\n",
    "    test(search_binary(xs, 1) == -1)\n",
    "    for (i, v) in enumerate(xs):\n",
    "        test(search_binary(xs, v) == i)"
   ],
   "cell_type": "markdown",
   "metadata": {}
  },
  {
   "source": [
    "# Chapter 17 PyGame\n",
    "\n",
    "    if __name__ == \"__main__\":\n",
    "        draw_board([0, 5, 3, 1, 6, 4, 2])    # 7 x 7 to test window size\n",
    "        draw_board([6, 4, 2, 0, 5, 7, 1, 3])\n",
    "        draw_board([9, 6, 0, 3, 10, 7, 2, 4, 12, 8, 11, 5, 1])  # 13 x 13\n",
    "        draw_board([11, 4, 8, 12, 2, 7, 3, 15, 0, 14, 10, 6, 13, 1, 5, 9])\n",
    "\n",
    "The conditional statement (if __name__ == \"__main__\") tests whether the name of the currently executing program is __main__. This allows us to distinguish whether this module is being run as a main program, or whether it has been imported elsewhere, and used as a module. If we run this module in Python, the test cases in lines 51-54 will be executed. However, if we import this module into another program (i.e. our N queens solver from earlier) the condition at line 50 will be false, and the statements on lines 51-54 won’t run.\n",
    "\n",
    "## 17.7. Aliens - a case study\n",
    "\n",
    "Find the example games with the PyGame package, (On a windows system, something like C:\\Python3\\Lib\\site-packages\\pygame\\examples) and play the Aliens game. "
   ],
   "cell_type": "markdown",
   "metadata": {}
  },
  {
   "source": [
    "# Chapter 19 Exceptions\n",
    "\n",
    "## 19.1. Catching exceptions\n",
    "\n",
    "The try statement executes and monitors the statements in the first block. If no exceptions occur, it skips the block under the except clause. If any exception occurs, it executes the statements in the except clause and then continues.\n",
    "\n",
    "## 19.2. Raising our own exceptions\n",
    "\n",
    "Can our program deliberately cause its own exceptions? If our program detects an error condition, we can raise an exception. Here is an example that gets input from the user and checks that the number is non-negative:"
   ],
   "cell_type": "markdown",
   "metadata": {}
  },
  {
   "cell_type": "code",
   "execution_count": null,
   "metadata": {},
   "outputs": [],
   "source": [
    "def get_age():\n",
    "    age = int(input(\"Please enter your age: \"))\n",
    "    if age < 0:\n",
    "        # Create a new instance of an exception\n",
    "        my_error = ValueError(\"{0} is not a valid age\".format(age))\n",
    "        raise my_error\n",
    "    return age"
   ]
  },
  {
   "source": [
    "Here we show it all in a single statement:"
   ],
   "cell_type": "markdown",
   "metadata": {}
  },
  {
   "cell_type": "code",
   "execution_count": null,
   "metadata": {},
   "outputs": [],
   "source": [
    "raise ValueError(\"{0} is not a valid age\".format(age))"
   ]
  },
  {
   "source": [
    "## 19.4. The finally clause of the try statement\n",
    "\n",
    "A common programming pattern is to grab a resource of some kind — e.g. we create a window for turtles to draw on, or we dial up a connection to our internet service provider, or we may open a file for writing. Then we perform some computation which may raise an exception, or may work without any problems.\n",
    "\n",
    "Whatever happens, we want to “clean up” the resources we grabbed — e.g. close the window, disconnect our dial-up connection, or close the file. The finally clause of the try statement is the way to do just this."
   ],
   "cell_type": "markdown",
   "metadata": {}
  },
  {
   "cell_type": "code",
   "execution_count": null,
   "metadata": {},
   "outputs": [],
   "source": [
    "import turtle\n",
    "import time\n",
    "\n",
    "def show_poly():\n",
    "    try:\n",
    "        win = turtle.Screen()   # Grab/create a resource, e.g. a window\n",
    "        tess = turtle.Turtle()\n",
    "\n",
    "        # This dialog could be cancelled,\n",
    "        #   or the conversion to int might fail, or n might be zero.\n",
    "        n = int(input(\"How many sides do you want in your polygon?\"))\n",
    "        angle = 360 / n\n",
    "        for i in range(n):      # Draw the polygon\n",
    "            tess.forward(10)\n",
    "            tess.left(angle)\n",
    "        time.sleep(3)           # Make program wait a few seconds\n",
    "    finally:\n",
    "        win.bye()               # Close the turtle's window\n",
    "\n",
    "show_poly()\n",
    "show_poly()\n",
    "show_poly()"
   ]
  },
  {
   "source": [
    "In lines 20–22, show_poly is called three times. Each one creates a new window for its turtle, and draws a polygon with the number of sides input by the user. But what if the user enters a string that cannot be converted to an int? What if they close the dialog? We’ll get an exception, but even though we’ve had an exception, we still want to close the turtle’s window. Lines 17–18 does this for us. Whether we complete the statements in the try clause successfully or not, the finally block will always be executed.\n",
    "\n",
    "Notice that the exception is still unhandled — only an except clause can handle an exception, so our program will still crash. But at least its turtle window will be closed before it crashes!"
   ],
   "cell_type": "markdown",
   "metadata": {}
  },
  {
   "source": [
    "# Chapter 20 Dictionaries\n",
    "\n",
    "## 20.2. Dictionary methods\n",
    "\n"
   ],
   "cell_type": "markdown",
   "metadata": {}
  },
  {
   "cell_type": "code",
   "execution_count": 32,
   "metadata": {},
   "outputs": [
    {
     "output_type": "stream",
     "name": "stdout",
     "text": [
      "Got key one which maps to value uno\nGot key two which maps to value dos\nGot key three which maps to value tres\n['one', 'two', 'three']\n"
     ]
    }
   ],
   "source": [
    "eng2sp = {\"one\": \"uno\", \"two\": \"dos\", \"three\": \"tres\"}\n",
    "\n",
    "for k in eng2sp.keys():   # The order of the k's is not defined\n",
    "   print(\"Got key\", k, \"which maps to value\", eng2sp[k])\n",
    "\n",
    "ks = list(eng2sp.keys())\n",
    "print(ks)"
   ]
  },
  {
   "source": [
    "It is so common to iterate over the keys in a dictionary that we can omit the keys method call in the for loop — iterating over a dictionary implicitly iterates over its keys:"
   ],
   "cell_type": "markdown",
   "metadata": {}
  },
  {
   "cell_type": "code",
   "execution_count": 35,
   "metadata": {},
   "outputs": [
    {
     "output_type": "stream",
     "name": "stdout",
     "text": [
      "Got key one\nGot key two\nGot key three\n"
     ]
    }
   ],
   "source": [
    "for k in eng2sp:\n",
    "   print(\"Got key\", k)"
   ]
  },
  {
   "source": [
    "The values method is similar; it returns a view object which can be turned into a list:"
   ],
   "cell_type": "markdown",
   "metadata": {}
  },
  {
   "cell_type": "code",
   "execution_count": 36,
   "metadata": {},
   "outputs": [
    {
     "output_type": "execute_result",
     "data": {
      "text/plain": [
       "['uno', 'dos', 'tres']"
      ]
     },
     "metadata": {},
     "execution_count": 36
    }
   ],
   "source": [
    "list(eng2sp.values())"
   ]
  },
  {
   "source": [
    "Tuples are often useful for getting both the key and the value at the same time while we are looping:"
   ],
   "cell_type": "markdown",
   "metadata": {}
  },
  {
   "cell_type": "code",
   "execution_count": 37,
   "metadata": {},
   "outputs": [
    {
     "output_type": "stream",
     "name": "stdout",
     "text": [
      "Got one that maps to uno\nGot two that maps to dos\nGot three that maps to tres\n"
     ]
    }
   ],
   "source": [
    "for (k,v) in eng2sp.items():\n",
    "    print(\"Got\",k,\"that maps to\",v)"
   ]
  },
  {
   "source": [
    "The in and not in operators can test if a key is in the dictionary:\n",
    "\n",
    ">>> \"one\" in eng2sp\n",
    "True\n",
    ">>> \"six\" in eng2sp\n",
    "False\n",
    ">>> \"tres\" in eng2sp    # Note that 'in' tests keys, not values.\n",
    "False\n",
    "\n",
    "## 20.4. Sparse matrices\n",
    "\n",
    "We previously used a list of lists to represent a matrix. That is a good choice for a matrix with mostly nonzero values\n",
    "\n",
    "An alternative is to use a dictionary. For the keys, we can use tuples that contain the row and column numbers. Here is the dictionary representation of the same matrix:"
   ],
   "cell_type": "markdown",
   "metadata": {}
  },
  {
   "cell_type": "code",
   "execution_count": 40,
   "metadata": {},
   "outputs": [
    {
     "output_type": "stream",
     "name": "stdout",
     "text": [
      "1\n0\n"
     ]
    }
   ],
   "source": [
    "matrix = {(0, 3): 1, (2, 1): 2, (4, 3): 3}\n",
    "print(matrix.get((0, 3), 0))\n",
    "print(matrix.get((1, 3), 0))"
   ]
  },
  {
   "source": [
    "# Chapter 21 Even more OOP\n",
    "\n",
    "## 21.8. Operator overloading\n",
    "\n",
    "For the next couple of exercises we’ll go back to the Point class defined in our first chapter about objects, and overload some of its operators. Firstly, adding two points adds their respective (x, y) coordinates:"
   ],
   "cell_type": "markdown",
   "metadata": {}
  },
  {
   "cell_type": "code",
   "execution_count": null,
   "metadata": {},
   "outputs": [],
   "source": [
    "class Point:\n",
    "    # Previously defined methods here...\n",
    "\n",
    "    def __add__(self, other):\n",
    "        return Point(self.x + other.x,  self.y + other.y)"
   ]
  },
  {
   "source": [
    "There are several ways to override the behavior of the multiplication operator: by defining a method named __mul__, or __rmul__, or both.\n",
    "\n",
    "If the left operand of * is a Point, Python invokes __mul__, which assumes that the other operand is also a Point. It computes the dot product of the two Points, defined according to the rules of linear algebra:"
   ],
   "cell_type": "markdown",
   "metadata": {}
  },
  {
   "cell_type": "code",
   "execution_count": null,
   "metadata": {},
   "outputs": [],
   "source": [
    "def __mul__(self, other):\n",
    "    return self.x * other.x + self.y * other.y"
   ]
  },
  {
   "source": [
    "If the left operand of * is a primitive type and the right operand is a Point, Python invokes __rmul__, which performs scalar multiplication:"
   ],
   "cell_type": "markdown",
   "metadata": {}
  },
  {
   "cell_type": "code",
   "execution_count": null,
   "metadata": {},
   "outputs": [],
   "source": [
    "def __rmul__(self, other):\n",
    "    return Point(other * self.x,  other * self.y)"
   ]
  },
  {
   "source": [
    "The result is a new Point whose coordinates are a multiple of the original coordinates. If other is a type that cannot be multiplied by a floating-point number, then __rmul__ will yield an error.\n",
    "\n",
    "    >>> p1 = Point(3, 4)\n",
    "    >>> p2 = Point(5, 7)\n",
    "    >>> print(p1 * p2)\n",
    "    43\n",
    "    >>> print(2 * p2)\n",
    "    (10, 14)\n",
    "\n",
    "What happens if we try to evaluate p2 * 2? Since the first parameter is a Point, Python invokes __mul__ with 2 as the second argument. Inside __mul__, the program tries to access the x coordinate of other, which fails because an integer has no attributes:\n",
    "\n",
    "    >>> print(p2 * 2)\n",
    "    AttributeError: 'int' object has no attribute 'x'\n",
    "\n",
    "## 21.9. Polymorphism\n",
    "\n",
    "    >>> p1 = Point(3, 4)\n",
    "    >>> p2 = Point(5, 7)\n",
    "    >>> print(multadd (2, p1, p2))\n",
    "    (11, 15)\n",
    "    >>> print(multadd (p1, p2, 1))\n",
    "    44\n",
    "\n",
    "In the first case, the Point is multiplied by a scalar and then added to another Point. In the second case, the dot product yields a numeric value, so the third parameter also has to be a numeric value.\n",
    "\n",
    "To determine whether a function can be applied to a new type, we apply Python’s fundamental rule of polymorphism, called the duck typing rule: If all of the operations inside the function can be applied to the type, the function can be applied to the type. The operations in the front_and_back function include copy, reverse, and print.\n",
    "\n",
    "As another example, consider the function front_and_back, which prints a list twice, forward and backward:"
   ],
   "cell_type": "markdown",
   "metadata": {}
  },
  {
   "cell_type": "code",
   "execution_count": null,
   "metadata": {},
   "outputs": [],
   "source": [
    "def front_and_back(front):\n",
    "    import copy\n",
    "    back = copy.copy(front)\n",
    "    back.reverse()\n",
    "    print(str(front) + str(back))"
   ]
  },
  {
   "source": [
    "Copy works on any object, and we have already written a __str__ method for Point objects, so all we need is a reverse method in the Point class:\n",
    "\n",
    "    def reverse(self):\n",
    "        (self.x , self.y) = (self.y, self.x)\n",
    "\n",
    "Then we can pass Points to front_and_back:\n",
    "\n",
    "    >>> p = Point(3, 4)\n",
    "    >>> front_and_back(p)\n",
    "    (3, 4)(4, 3)\n",
    "\n",
    "## 21.10. Glossary\n",
    "\n",
    "* functional programming style - A style of program design in which the majority of functions are pure.\n",
    "* pure function - A function that does not modify any of the objects it receives as parameters. Most pure functions are fruitful rather than void.\n",
    "* normalized -Data is said to be normalized if it fits into some reduced range or set of rules. We usually normalize our angles to values in the range [0..360). We normalize minutes and seconds to be values in the range [0..60). And we’d be surprised if the local store advertised its cold drinks at “One dollar, two hundred and fifty cents”.\n",
    "* polymorphic - A function that can operate on more than one type. Notice the subtle distinction: overloading has different functions (all with the same name) for different types, whereas a polymorphic function is a single function that can work for a range of types."
   ],
   "cell_type": "markdown",
   "metadata": {}
  },
  {
   "source": [
    "# Chapter 22\n",
    "\n",
    "## 22.3. Class attributes and the __str__ method\n",
    "\n",
    "We assign these lists to class attributes at the top of the class definition:"
   ],
   "cell_type": "markdown",
   "metadata": {}
  },
  {
   "cell_type": "code",
   "execution_count": null,
   "metadata": {},
   "outputs": [],
   "source": [
    "class Card:\n",
    "    suits = [\"Clubs\", \"Diamonds\", \"Hearts\", \"Spades\"]\n",
    "    ranks = [\"narf\", \"Ace\", \"2\", \"3\", \"4\", \"5\", \"6\", \"7\",\n",
    "             \"8\", \"9\", \"10\", \"Jack\", \"Queen\", \"King\"]\n",
    "\n",
    "    def __init__(self, suit=0, rank=0):\n",
    "        self.suit = suit\n",
    "        self.rank = rank\n",
    "\n",
    "    def __str__(self):\n",
    "        return (self.ranks[self.rank] + \" of \" + self.suits[self.suit])"
   ]
  },
  {
   "source": [
    "A class attribute is defined outside of any method, and it can be accessed from any of the methods in the class.\n",
    "\n",
    "Inside __str__, we can use suits and ranks to map the numerical values of suit and rank to strings.\n",
    "\n",
    "With the methods we have so far, we can create and print cards:\n",
    "\n",
    "    >>> card1 = Card(1, 11)\n",
    "    >>> print(card1)\n",
    "    Jack of Diamonds"
   ],
   "cell_type": "markdown",
   "metadata": {}
  },
  {
   "source": [
    "# Chapter 23 Inheritance\n",
    "\n",
    "Inheritance is the ability to define a new class that is a modified version of an existing class.\n",
    "\n",
    "The primary advantage of this feature is that you can add new methods to a class without modifying the existing class. It is called inheritance because the new class inherits all of the methods of the existing class. Extending this metaphor, the existing class is sometimes called the parent class. The new class may be called the child class or sometimes subclass.\n"
   ],
   "cell_type": "markdown",
   "metadata": {}
  },
  {
   "source": [
    "# Chapter 24 Linked lists\n",
    "\n",
    "## 24.2. The Node class\n",
    "\n",
    "As usual when writing a new class, we’ll start with the initialization and __str__ methods so that we can test the basic mechanism of creating and displaying the new type"
   ],
   "cell_type": "markdown",
   "metadata": {}
  },
  {
   "source": [
    "# Chapter 26 Queues\n",
    "\n",
    "## 26.4. Improved Linked Queue\n",
    "\n",
    "We would like an implementation of the Queue ADT that can perform all operations in constant time."
   ],
   "cell_type": "markdown",
   "metadata": {}
  },
  {
   "cell_type": "code",
   "execution_count": null,
   "metadata": {},
   "outputs": [],
   "source": [
    "class ImprovedQueue:\n",
    "    def __init__(self):\n",
    "        self.length = 0\n",
    "        self.head = None\n",
    "        self.last = None\n",
    "\n",
    "    def is_empty(self):\n",
    "        return self.length == 0\n",
    "\n",
    "    def insert(self, cargo):\n",
    "        node = Node(cargo)\n",
    "        if self.length == 0:\n",
    "            # If list is empty, the new node is head and last\n",
    "            self.head = self.last = node\n",
    "        else:\n",
    "            # Find the last node\n",
    "            last = self.last\n",
    "            # Append the new node\n",
    "            last.next = node\n",
    "            self.last = node\n",
    "        self.length += 1\n",
    "\n",
    "    def remove(self):\n",
    "        cargo = self.head.cargo\n",
    "        self.head = self.head.next\n",
    "        self.length -= 1\n",
    "        if self.length == 0:\n",
    "            self.last = None\n",
    "        return cargo"
   ]
  },
  {
   "source": [
    "## 26.5. Priority queue\n",
    "\n",
    "This implementation of Priority Queue has as an attribute a Python list that contains the items in the queue."
   ],
   "cell_type": "markdown",
   "metadata": {}
  },
  {
   "cell_type": "code",
   "execution_count": null,
   "metadata": {},
   "outputs": [],
   "source": [
    "class PriorityQueue:\n",
    "    def __init__(self):\n",
    "        self.items = []\n",
    "\n",
    "    def is_empty(self):\n",
    "        return not self.items\n",
    "\n",
    "    def insert(self, item):\n",
    "        self.items.append(item)\n",
    "\n",
    "    def remove(self):\n",
    "        maxi = 0\n",
    "        for i in range(1, len(self.items)):\n",
    "            if self.items[i] > self.items[maxi]:\n",
    "                maxi = i\n",
    "        item = self.items[maxi]\n",
    "        del self.items[maxi]\n",
    "        return item"
   ]
  },
  {
   "source": [
    "At the beginning of each iteration, maxi holds the index of the biggest item (highest priority) we have seen so far. Each time through the loop, the program compares the i‘th item to the champion. If the new item is bigger, the value of maxi is set to i.\n",
    "\n",
    "When the for statement completes, maxi is the index of the biggest item. This item is removed from the list and returned.\n",
    "\n",
    "If the queue contains an object type, it has to provide a __gt__ method. When remove uses the > operator to compare items, it invokes the __gt__ method for one of the items and passes the other as a parameter. As long as the __gt__ method works correctly, the Priority Queue will work.\n",
    "\n",
    "## 26.6. The Golfer class\n",
    "\n",
    "As an example of an object with an unusual definition of priority, let’s implement a class called Golfer that keeps track of the names and scores of golfers. As usual, we start by defining __init__ and __str__:"
   ],
   "cell_type": "markdown",
   "metadata": {}
  },
  {
   "cell_type": "code",
   "execution_count": null,
   "metadata": {},
   "outputs": [],
   "source": [
    "class Golfer:\n",
    "    def __init__(self, name, score):\n",
    "        self.name = name\n",
    "        self.score= score\n",
    "\n",
    "    def __str__(self):\n",
    "        return \"{0:16}: {1}\".format(self.name, self.score)"
   ]
  },
  {
   "source": [
    "__str__ uses the format method to put the names and scores in neat columns.\n",
    "\n",
    "Next we define a version of __gt__ where the lowest score gets highest priority. As always, __gt__ returns True if self is greater than other, and False otherwise."
   ],
   "cell_type": "markdown",
   "metadata": {}
  },
  {
   "cell_type": "code",
   "execution_count": null,
   "metadata": {},
   "outputs": [],
   "source": [
    "class Golfer:\n",
    "    ...\n",
    "    def __gt__(self, other):\n",
    "        return self.score < other.score    # Less is more"
   ]
  },
  {
   "source": [
    "Now we are ready to test the priority queue with the Golfer class:\n",
    "\n",
    "    >>> tiger = Golfer(\"Tiger Woods\", 61)\n",
    "    >>> phil = Golfer(\"Phil Mickelson\", 72)\n",
    "    >>> hal = Golfer(\"Hal Sutton\", 69)\n",
    "    >>>\n",
    "    >>> pq = PriorityQueue()\n",
    "    >>> for g in [tiger, phil, hal]:\n",
    "    ...     pq.insert(g)\n",
    "    ...\n",
    "    >>> while not pq.is_empty():\n",
    "    ...     print(pq.remove())\n",
    "    ...\n",
    "    Tiger Woods     : 61\n",
    "    Hal Sutton      : 69\n",
    "    Phil Mickelson  : 72"
   ],
   "cell_type": "markdown",
   "metadata": {}
  },
  {
   "source": [
    "# Debugging\n",
    "\n",
    "Different kinds of errors can occur in a program, and it is useful to distinguish among them in order to track them down more quickly:\n",
    "\n",
    "1. Syntax errors are produced by Python when it is translating the source code into byte code. They usually indicate that there is something wrong with the syntax of the program. Example: Omitting the colon at the end of a def statement yields the somewhat redundant message SyntaxError: invalid syntax.\n",
    "2. Runtime errors are produced by the runtime system if something goes wrong while the program is running. Most runtime error messages include information about where the error occurred and what functions were executing. Example: An infinite recursion eventually causes a runtime error of maximum recursion depth exceeded.\n",
    "3. Semantic errors are problems with a program that compiles and runs but doesn’t do the right thing. Example: An expression may not be evaluated in the order you expect, yielding an unexpected result."
   ],
   "cell_type": "markdown",
   "metadata": {}
  }
 ]
}