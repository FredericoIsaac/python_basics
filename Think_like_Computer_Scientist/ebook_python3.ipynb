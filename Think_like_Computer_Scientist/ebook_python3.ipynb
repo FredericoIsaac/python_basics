{
 "metadata": {
  "language_info": {
   "codemirror_mode": {
    "name": "ipython",
    "version": 3
   },
   "file_extension": ".py",
   "mimetype": "text/x-python",
   "name": "python",
   "nbconvert_exporter": "python",
   "pygments_lexer": "ipython3",
   "version": "3.7.6-final"
  },
  "orig_nbformat": 2,
  "kernelspec": {
   "name": "Python 3.7.6 64-bit ('base': conda)",
   "display_name": "Python 3.7.6 64-bit ('base': conda)",
   "metadata": {
    "interpreter": {
     "hash": "8b7956f056717f9751108d1773c0c2497ab856d1dd724e1ce15f78701bca2838"
    }
   }
  }
 },
 "nbformat": 4,
 "nbformat_minor": 2,
 "cells": [
  {
   "source": [
    "Source: http://openbookproject.net/thinkcs/python/english3e/"
   ],
   "cell_type": "markdown",
   "metadata": {}
  },
  {
   "source": [
    "# Chapter 1 - The way of the program\n",
    "\n",
    "## 1.8 Formal and natural Languages\n",
    "\n",
    "Syntax rules come in two flavors, pertaining to *tokens* and structure. Tokens are the basic elements of the language, such as words, numbers, parenthesis, commas, and so on. In Python, a statement like *print(\"happy new year for \", 2013)* has 6 tokens: a function name, an open parenthesis (round bracket), a string, a comma, a number, and a close parenthesis.\n",
    "\n",
    "The second type of syntax rule pertains to the structure of a statement— that is, the way the tokens are arranged, if we omitted the comma, or if we changed the two parentheses around to say print)\"Happy New Year for \",2013( our statement would still have six legal and valid tokens, but the structure is illegal.\n"
   ],
   "cell_type": "markdown",
   "metadata": {}
  },
  {
   "source": [
    "# Chapter 2 - Variables, expressions and statements\n",
    "\n",
    "## 2.6 Operators and operands\n",
    "\n",
    "Floor division uses the token //. Its result is always a whole number — and if it has to adjust the number it always moves it to the left on the number line.\n"
   ],
   "cell_type": "markdown",
   "metadata": {}
  },
  {
   "cell_type": "code",
   "execution_count": 11,
   "metadata": {},
   "outputs": [
    {
     "output_type": "stream",
     "name": "stdout",
     "text": [
      "1.75\n1\n"
     ]
    }
   ],
   "source": [
    "print(7 / 4)\n",
    "print(7 // 4)"
   ]
  },
  {
   "source": [
    "## 2.8 Order of Operations\n",
    "\n",
    "When more than one operator appears in an expression, the order of evaluation depends on the rules of precedence.\n",
    "\n",
    "The acronym PEMDAS is: \n",
    "\n",
    "* Parentheses have the highest precedence\n",
    "* Exponentiation has the next highest precedence\n",
    "* Multiplication and both Division operators have the same precedence\n",
    "* Operators with the same precedence are evaluated from left-to-right.\n",
    "    * Due to some historical quirk, an exception to the left-to-right left-associative rule is the exponentiation operator **, so a useful hint is to always use parentheses to force exactly the order you want when exponentiation is involved:"
   ],
   "cell_type": "markdown",
   "metadata": {}
  },
  {
   "cell_type": "code",
   "execution_count": 12,
   "metadata": {},
   "outputs": [
    {
     "output_type": "stream",
     "name": "stdout",
     "text": [
      "512\n64\n"
     ]
    }
   ],
   "source": [
    "print(2 ** 3 ** 2)     # The right-most ** operator gets done first!\n",
    "print((2 ** 3) ** 2)   # Use parentheses to force the order you want!"
   ]
  },
  {
   "source": [
    "## 2.12. The modulus operator\n",
    "\n",
    "The modulus operator turns out to be surprisingly useful. For example, you can check whether one number is divisible by another—if x % y is zero, then x is divisible by y.\n",
    "\n",
    "Also, you can extract the right-most digit or digits from a number. For example, x % 10 yields the right-most digit of x (in base 10). Similarly x % 100 yields the last two digits."
   ],
   "cell_type": "markdown",
   "metadata": {}
  },
  {
   "source": [
    "# Chapter 3 Hello, little turtles!\n",
    "\n",
    "* canvas - A surface within a window where drawing takes place.\n",
    "* instance - An object of a certain type, or class. tess and alex are different instances of the class Turtle.\n",
    "* method - A function that is attached to an object. Invoking or activating the method causes the object to respond in some way, e.g. forward is the method when we say tess.forward(100).\n",
    "* invoke - An object has methods. We use the verb invoke to mean activate the method. Invoking a method is done by putting parentheses after the method name, with some possible arguments. So tess.forward() is an invocation of the forward method."
   ],
   "cell_type": "markdown",
   "metadata": {}
  },
  {
   "source": [
    "# Chapter 4 Functions\n",
    "\n",
    "## 4.1 Functions\n",
    "\n",
    "Docstrings for documentation:\n",
    "\n",
    "Need to know what arguments our function takes, what it does, and what the expected result is. Enough to be able to use the function without having to look underneath. This goes back to the concept of abstraction of which we’ll talk more about.\n",
    "\n",
    "Docstrings are usually formed using triple-quoted strings as they allow us to easily expand the docstring later on should we want to write more than a one-liner.\n"
   ],
   "cell_type": "markdown",
   "metadata": {}
  },
  {
   "source": [
    "# Chapter 5 Conditionals\n",
    "\n",
    "## Logical Opposites\n",
    "\n",
    "Two powerful simplification laws (called de Morgan’s laws) that are often helpful when dealing with complicated Boolean expressions are:\n",
    "\n",
    "    not (x and y)  ==  (not x) or (not y)\n",
    "    not (x or y)   ==  (not x) and (not y)\n"
   ],
   "cell_type": "markdown",
   "metadata": {}
  },
  {
   "source": [
    "# Chapter 6 Fruitful functions\n",
    "\n",
    "fruitful function - A function that yields a return value instead of None.\n",
    "\n",
    "## 6.3 Debugging with print\n",
    "\n",
    "* Work on solving the problem on a piece of paper (perhaps using a flowchart to record the steps you take) before you concern yourself with writing code.\n",
    "* Do not write chatterbox functions. A chatterbox is a fruitful function that, in addition to its primary task, also asks the user for input, or prints output, when it would be more useful if it simply shut up and did its work quietly.\n",
    "\n",
    "## 6.5 Boolean functions\n",
    "\n",
    "It is common to give Boolean functions names that sound like yes/no questions. is_divisible returns either True or False to indicate whether the x is or is not divisible by y.\n",
    "\n",
    "## 6.6 Programming with style\n",
    "\n",
    "Python Enhancement Proposal 8 (PEP 8), a style guide developed by the Python community.\n",
    "\n",
    "We’ll have more to say about style as our programs become more complex, but a few pointers will be helpful already:\n",
    "\n",
    "* limit line length to 78 characters\n",
    "* when naming identifiers, use CamelCase for classes (we’ll get to those) and lowercase_with_underscores for functons and variables\n",
    "* place imports at the top of the file\n",
    "* keep function definitions together\n",
    "* use docstrings to document functions\n",
    "* use two blank lines to separate function definitions from each other\n",
    "* keep top level statements, including function calls, together at the bottom of the program\n",
    "\n",
    "## 6.7. Unit testing\n",
    "\n",
    "Extra code in your program which is there because it makes debugging or testing easier is called scaffolding.\n",
    "\n",
    "A collection of tests for some code is called its test suite.\n",
    "\n",
    "There are a few different ways to do unit testing in Python — but at this stage we’re going to ignore what the Python community usually does, and we’re going to start with two functions that we’ll write ourselves. We’ll use these for writing our unit tests."
   ],
   "cell_type": "markdown",
   "metadata": {}
  },
  {
   "cell_type": "code",
   "execution_count": 13,
   "metadata": {},
   "outputs": [],
   "source": [
    "import sys\n",
    "\n",
    "def test(did_pass):\n",
    "    \"\"\"  Print the result of a test.  \"\"\"\n",
    "    linenum = sys._getframe(1).f_lineno   # Get the caller's line number.\n",
    "    if did_pass:\n",
    "        msg = \"Test at line {0} ok.\".format(linenum)\n",
    "    else:\n",
    "        msg = (\"Test at line {0} FAILED.\".format(linenum))\n",
    "    print(msg)"
   ]
  },
  {
   "source": [
    "But with this function written, we can proceed to construct our test suite:"
   ],
   "cell_type": "markdown",
   "metadata": {}
  },
  {
   "cell_type": "code",
   "execution_count": 14,
   "metadata": {},
   "outputs": [
    {
     "output_type": "error",
     "ename": "NameError",
     "evalue": "name 'absolute_value' is not defined",
     "traceback": [
      "\u001b[1;31m---------------------------------------------------------------------------\u001b[0m",
      "\u001b[1;31mNameError\u001b[0m                                 Traceback (most recent call last)",
      "\u001b[1;32m<ipython-input-14-d292e3edf751>\u001b[0m in \u001b[0;36m<module>\u001b[1;34m\u001b[0m\n\u001b[0;32m      8\u001b[0m     \u001b[0mtest\u001b[0m\u001b[1;33m(\u001b[0m\u001b[0mabsolute_value\u001b[0m\u001b[1;33m(\u001b[0m\u001b[1;33m-\u001b[0m\u001b[1;36m3.14\u001b[0m\u001b[1;33m)\u001b[0m \u001b[1;33m==\u001b[0m \u001b[1;36m3.14\u001b[0m\u001b[1;33m)\u001b[0m\u001b[1;33m\u001b[0m\u001b[1;33m\u001b[0m\u001b[0m\n\u001b[0;32m      9\u001b[0m \u001b[1;33m\u001b[0m\u001b[0m\n\u001b[1;32m---> 10\u001b[1;33m \u001b[0mtest_suite\u001b[0m\u001b[1;33m(\u001b[0m\u001b[1;33m)\u001b[0m        \u001b[1;31m# Here is the call to run the tests\u001b[0m\u001b[1;33m\u001b[0m\u001b[1;33m\u001b[0m\u001b[0m\n\u001b[0m",
      "\u001b[1;32m<ipython-input-14-d292e3edf751>\u001b[0m in \u001b[0;36mtest_suite\u001b[1;34m()\u001b[0m\n\u001b[0;32m      2\u001b[0m     \"\"\" Run the suite of tests for code in this module (this file).\n\u001b[0;32m      3\u001b[0m     \"\"\"\n\u001b[1;32m----> 4\u001b[1;33m     \u001b[0mtest\u001b[0m\u001b[1;33m(\u001b[0m\u001b[0mabsolute_value\u001b[0m\u001b[1;33m(\u001b[0m\u001b[1;36m17\u001b[0m\u001b[1;33m)\u001b[0m \u001b[1;33m==\u001b[0m \u001b[1;36m17\u001b[0m\u001b[1;33m)\u001b[0m\u001b[1;33m\u001b[0m\u001b[1;33m\u001b[0m\u001b[0m\n\u001b[0m\u001b[0;32m      5\u001b[0m     \u001b[0mtest\u001b[0m\u001b[1;33m(\u001b[0m\u001b[0mabsolute_value\u001b[0m\u001b[1;33m(\u001b[0m\u001b[1;33m-\u001b[0m\u001b[1;36m17\u001b[0m\u001b[1;33m)\u001b[0m \u001b[1;33m==\u001b[0m \u001b[1;36m17\u001b[0m\u001b[1;33m)\u001b[0m\u001b[1;33m\u001b[0m\u001b[1;33m\u001b[0m\u001b[0m\n\u001b[0;32m      6\u001b[0m     \u001b[0mtest\u001b[0m\u001b[1;33m(\u001b[0m\u001b[0mabsolute_value\u001b[0m\u001b[1;33m(\u001b[0m\u001b[1;36m0\u001b[0m\u001b[1;33m)\u001b[0m \u001b[1;33m==\u001b[0m \u001b[1;36m0\u001b[0m\u001b[1;33m)\u001b[0m\u001b[1;33m\u001b[0m\u001b[1;33m\u001b[0m\u001b[0m\n",
      "\u001b[1;31mNameError\u001b[0m: name 'absolute_value' is not defined"
     ]
    }
   ],
   "source": [
    "def test_suite():\n",
    "    \"\"\" Run the suite of tests for code in this module (this file).\n",
    "    \"\"\"\n",
    "    test(absolute_value(17) == 17)\n",
    "    test(absolute_value(-17) == 17)\n",
    "    test(absolute_value(0) == 0)\n",
    "    test(absolute_value(3.14) == 3.14)\n",
    "    test(absolute_value(-3.14) == 3.14)\n",
    "\n",
    "test_suite()        # Here is the call to run the tests"
   ]
  },
  {
   "source": [
    "# Chapter 7 Iteration\n",
    "\n",
    "## 7.9. Help and meta-notation\n",
    "\n",
    "    range([start,]stop[,step])\n",
    "\n",
    "Notice the square brackets in the description of the arguments. These are examples of meta-notation — notation that describes Python syntax, but is not part of it. The square brackets in this documentation mean that the argument is optional — the programmer can omit it. So what this first line of help tells us is that range must always have a stop argument, but it may have an optional start argument (which must be followed by a comma if it is present), and it can also have an optional step argument, preceded by a comma if it is present.\n",
    "\n",
    "Other meta-notation you’ll frequently encounter is the use of bold and italics. The bold means that these are tokens — keywords or symbols — typed into your Python code exactly as they are, whereas the italic terms stand for “something of this type”. So the syntax description\n",
    "\n",
    "    for variable in list :\n",
    "    \n",
    "means you can substitute any legal variable and any legal list when you write your Python code.\n",
    "\n",
    "## 7.13. More encapsulation\n",
    "\n",
    "Encapsulation is the process of wrapping a piece of code in a function\n",
    "\n",
    "This process is a common development plan. We develop code by writing lines of code outside any function, or typing them in to the interpreter. When we get the code working, we extract it and wrap it up in a function.\n",
    "\n",
    "This development plan is particularly useful if you don’t know how to divide the program into functions when you start writing. This approach lets you design as you go along.\n",
    "\n",
    "## 7.17. An example\n",
    " \n",
    "    input(\"\\n\\nGreat, you got it in {0} guesses!\\n\\n\".format(guesses))\n",
    "\n",
    "There is a call to the input function, but we don’t do anything with the result, not even assign it to a variable. This is legal in Python. Here it has the effect of popping up the input dialog window and waiting for the user to respond before the program terminates. Programmers often use the trick of doing some extra input at the end of a script, just to keep the window open.\n"
   ],
   "cell_type": "markdown",
   "metadata": {}
  },
  {
   "source": [
    "# Chapter 8 Strings\n",
    "\n",
    "## 8.16. The string format method\n"
   ],
   "cell_type": "markdown",
   "metadata": {}
  },
  {
   "cell_type": "code",
   "execution_count": null,
   "metadata": {},
   "outputs": [],
   "source": [
    "n1 = \"Paris\"\n",
    "n2 = \"Whitney\"\n",
    "n3 = \"Hilton\"\n",
    "\n",
    "print(\"Pi to three decimal places is {0:.3f}\".format(3.1415926))\n",
    "print(\"123456789 123456789 123456789 123456789 123456789 123456789\")\n",
    "print(\"|||{0:<15}|||{1:^15}|||{2:>15}|||Born in {3}|||\"\n",
    "        .format(n1,n2,n3,1981))\n",
    "print(\"The decimal value {0} converts to hex value {0:x}\"\n",
    "        .format(123456))"
   ]
  },
  {
   "source": [
    "# Chapter 9 Tuples\n",
    "\n",
    "## 9.1. Tuples are used for grouping data\n",
    "\n",
    "This is an example of a data structure — a mechanism for grouping and organizing data to make it easier to use.\n",
    "\n",
    "To create a tuple with a single element:\n",
    "\n",
    "    >>> tup = (5,)\n",
    "    >>> type(tup)\n",
    "    <class 'tuple'>\n",
    "\n",
    "## 9.2. Tuple assignment\n",
    "\n",
    "In tuple packing, the values on the left are ‘packed’ together in a tuple:"
   ],
   "cell_type": "markdown",
   "metadata": {}
  },
  {
   "cell_type": "code",
   "execution_count": null,
   "metadata": {},
   "outputs": [],
   "source": [
    "b = (\"Bob\", 19, \"CS\")    # tuple packing"
   ]
  },
  {
   "source": [
    "In tuple unpacking, the values in a tuple on the right are ‘unpacked’ into the variables/names on the right:"
   ],
   "cell_type": "markdown",
   "metadata": {}
  },
  {
   "cell_type": "code",
   "execution_count": 10,
   "metadata": {},
   "outputs": [
    {
     "output_type": "stream",
     "name": "stdout",
     "text": [
      "Bob\n19\nCS\n"
     ]
    }
   ],
   "source": [
    "b = (\"Bob\", 19, \"CS\")\n",
    "(name, age, studies) = b    # tuple unpacking\n",
    "print(name)\n",
    "print(age)\n",
    "print(studies)"
   ]
  },
  {
   "source": [
    "Once in a while, it is useful to swap the values of two variables:"
   ],
   "cell_type": "markdown",
   "metadata": {}
  },
  {
   "cell_type": "code",
   "execution_count": 17,
   "metadata": {},
   "outputs": [
    {
     "output_type": "stream",
     "name": "stdout",
     "text": [
      "2 1\n"
     ]
    }
   ],
   "source": [
    "a, b = 1, 2\n",
    "temp = a\n",
    "a = b\n",
    "b = temp\n",
    "a, b = 1, 2\n",
    "(a, b) = (b, a)\n",
    "print(a,b)"
   ]
  },
  {
   "source": [
    "## 9.3. Tuples as return values\n",
    "\n",
    "Functions can always only return a single value, but by making that value a tuple, we can effectively group together as many values as we like, and return them together."
   ],
   "cell_type": "markdown",
   "metadata": {}
  },
  {
   "source": [
    "# Chapter 11 Lists\n",
    "\n",
    "## Lists are mutable\n",
    "\n",
    "With the slice operator we can update a whole sublist at once:"
   ],
   "cell_type": "markdown",
   "metadata": {}
  },
  {
   "cell_type": "code",
   "execution_count": null,
   "metadata": {},
   "outputs": [],
   "source": [
    "a_list = [\"a\", \"b\", \"c\", \"d\", \"e\", \"f\"]\n",
    "a_list[1:3] = [\"x\", \"y\"]\n",
    "print(a_list)"
   ]
  },
  {
   "source": [
    "We can also remove elements from a list by assigning an empty list to them:"
   ],
   "cell_type": "markdown",
   "metadata": {}
  },
  {
   "cell_type": "code",
   "execution_count": null,
   "metadata": {},
   "outputs": [],
   "source": [
    "a_list = [\"a\", \"b\", \"c\", \"d\", \"e\", \"f\"]\n",
    "a_list[1:3] = []\n",
    "print(a_list)"
   ]
  },
  {
   "source": [
    "And we can add elements to a list by squeezing them into an empty slice at the desired location:"
   ],
   "cell_type": "markdown",
   "metadata": {}
  },
  {
   "cell_type": "code",
   "execution_count": 18,
   "metadata": {},
   "outputs": [
    {
     "output_type": "stream",
     "name": "stdout",
     "text": [
      "['a', 'b', 'c', 'd', 'f']\n['a', 'b', 'c', 'd', 'e', 'f']\n"
     ]
    }
   ],
   "source": [
    "a_list = [\"a\", \"d\", \"f\"]\n",
    "a_list[1:1] = [\"b\", \"c\"]\n",
    "print(a_list)\n",
    "a_list[4:4] = [\"e\"]\n",
    "print(a_list)"
   ]
  },
  {
   "source": [
    "## 11.9. Objects and references\n",
    "\n",
    "    1 a = \"banana\"\n",
    "    2 b = \"banana\"\n",
    "\n",
    "We can test whether two names refer to the same object using the is operator:\n",
    "\n",
    "    a is b\n",
    "    True\n",
    "\n",
    "Since strings are immutable, Python optimizes resources by making two names that refer to the same string value refer to the same object.\n",
    "\n",
    "## 11.10. Aliasing\n",
    "\n",
    "In this case, the state snapshot looks like this:\n",
    "\n",
    "    a -\n",
    "        -> [1, 2, 3]\n",
    "    b -\n",
    "\n",
    "Because the same list has two different names, a and b, we say that it is aliased. Changes made with one alias affect the other:\n",
    "\n",
    "    b[0] = 5\n",
    "    a\n",
    "    [5, 2, 3]\n",
    "\n",
    "## 11.11. Cloning lists\n",
    "\n",
    "The easiest way to clone a list is to use the slice operator:"
   ],
   "cell_type": "markdown",
   "metadata": {}
  },
  {
   "cell_type": "code",
   "execution_count": 19,
   "metadata": {},
   "outputs": [
    {
     "output_type": "stream",
     "name": "stdout",
     "text": [
      "[1, 2, 3]\n"
     ]
    }
   ],
   "source": [
    "a = [1, 2, 3]\n",
    "b = a[:]\n",
    "print(b)"
   ]
  },
  {
   "source": [
    "## 11.20. Matrices\n",
    "\n",
    "Nested lists are often used to represent matrices. For example, the matrix:\n",
    "\n",
    "![matrix2.png](http://openbookproject.net/thinkcs/python/english3e/_images/matrix2.png)\n",
    "\n",
    "Might be represented as:\n",
    "\n",
    "    >>> mx = [[1, 2, 3], [4, 5, 6], [7, 8, 9]]\n",
    "\n",
    "The first index selects the row, and the second index selects the column."
   ],
   "cell_type": "markdown",
   "metadata": {}
  },
  {
   "source": [
    "# Chapter 12 Modules\n",
    "\n",
    "## 12.1 Random numbers\n",
    "\n",
    "A random odd number less than 100, we could say:\n",
    "\n",
    "    r_odd = rng.randrange(1, 100, 2)\n",
    "\n",
    "Shuffle method:\n",
    "\n",
    "    rng.shuffle(cards)       # Shuffle the pack\n",
    "\n",
    "## 12.1.1. Repeatability and Testing\n",
    "\n",
    "Random number generators are based on a deterministic algorithm — repeatable and predictable. So they’re called pseudo-random generators — they are not genuinely random. They start with a seed value. Each time you ask for another random number, you’ll get one based on the current seed attribute, and the state of the seed (which is one of the attributes of the generator) will be updated.\n",
    "\n",
    "For debugging and for writing unit tests, it is convenient to have repeatability — programs that do the same thing every time they are run. We can arrange this by forcing the random number generator to be initialized with a known seed every time. (Often this is only wanted during testing — playing a game of cards where the shuffled deck was always in the same order as last time you played would get boring very rapidly!)\n",
    "\n",
    "    1 drng = random.Random(123)  # Create generator with known starting state\n",
    "    \n",
    "This alternative way of creating a random number generator gives an explicit seed value to the object. Without this argument, the system probably uses something based on the time. So grabbing some random numbers from drng today will give you precisely the same random sequence as it will tomorrow!\n",
    "\n",
    "## 12.2. The time module\n",
    "\n",
    "Whenever clock is called, it returns a floating point number representing how many seconds have elapsed since your program started running.\n",
    "\n",
    "The way to use it is to call clock and assign the result to a variable, say t0, just before you start executing the code you want to measure. Then after execution, call clock again, (this time we’ll save the result in variable t1). The difference t1-t0 is the time elapsed, and is a measure of how fast your program is running.\n"
   ],
   "cell_type": "markdown",
   "metadata": {}
  },
  {
   "cell_type": "code",
   "execution_count": null,
   "metadata": {},
   "outputs": [],
   "source": [
    "import time\n",
    "\n",
    "def do_my_sum(xs):\n",
    "    sum = 0\n",
    "    for v in xs:\n",
    "        sum += v\n",
    "    return sum\n",
    "\n",
    "sz = 10000000        # Lets have 10 million elements in the list\n",
    "testdata = range(sz)\n",
    "\n",
    "t0 = time.clock()\n",
    "my_result = do_my_sum(testdata)\n",
    "t1 = time.clock()\n",
    "print(\"my_result    = {0} (time taken = {1:.4f} seconds)\"\n",
    "        .format(my_result, t1-t0))\n",
    "\n",
    "t2 = time.clock()\n",
    "their_result = sum(testdata)\n",
    "t3 = time.clock()\n",
    "print(\"their_result = {0} (time taken = {1:.4f} seconds)\"\n",
    "        .format(their_result, t3-t2))"
   ]
  },
  {
   "source": [
    "## 12.4. Creating your own modules\n",
    "\n",
    "All we need to do to create our own modules is to save our script as a file with a .py extension. Suppose, for example, this script is saved as a file named seqtools.py:"
   ],
   "cell_type": "markdown",
   "metadata": {}
  },
  {
   "cell_type": "code",
   "execution_count": 23,
   "metadata": {},
   "outputs": [],
   "source": [
    "def remove_at(pos, seq):\n",
    "    return seq[:pos] + seq[pos+1:]"
   ]
  },
  {
   "source": [
    "We can now use our module, both in scripts we write, or in the interactive Python interpreter. To do so, we must first import the module.\n",
    "\n",
    "    >>> import seqtools\n",
    "    >>> s = \"A string!\"\n",
    "    >>> seqtools.remove_at(4, s)\n",
    "    'A sting!'"
   ],
   "cell_type": "markdown",
   "metadata": {}
  },
  {
   "source": [
    "## 12.6. Scope and lookup rules\n",
    "\n",
    "There are three important scopes in Python:\n",
    "\n",
    "* Local scope refers to identifiers declared within a function. These identifiers are kept in the namespace that belongs to the function, and each function has its own namespace.\n",
    "* Global scope refers to all the identifiers declared within the current module, or file.\n",
    "* Built-in scope refers to all the identifiers built into Python — those like range and min that can be used without having to import anything, and are (almost) always available.\n",
    "\n",
    "The innermost, or local scope, will always take precedence over the global scope, and the global scope always gets used in preference to the built-in scope.\n",
    "\n",
    "Now, a slightly more complex example:"
   ],
   "cell_type": "markdown",
   "metadata": {}
  },
  {
   "cell_type": "code",
   "execution_count": null,
   "metadata": {},
   "outputs": [],
   "source": [
    "n = 10\n",
    "m = 3\n",
    "def f(n):\n",
    "   m = 7\n",
    "   return 2*n+m\n",
    "\n",
    "print(f(5), n, m)"
   ]
  },
  {
   "source": [
    "This prints 17 10 3. The reason is that the two variables m and n in lines 1 and 2 are outside the function in the global namespace. Inside the function, new variables called n and m are created just for the duration of the execution of f. These are created in the local namespace of function f. Within the body of f, the scope lookup rules determine that we use the local variables m and n. By contrast, after we’ve returned from f, the n and m arguments to the print function refer to the original variables on lines 1 and 2, and these have not been changed in any way by executing function f.\n",
    "\n",
    "Notice too that the def puts name f into the global namespace here. So it can be called on line 7.\n",
    "\n",
    "What is the scope of the variable n on line 1? Its scope — the region in which it is visible — is lines 1, 2, 6, 7. It is hidden from view in lines 3, 4, 5 because of the local variable n."
   ],
   "cell_type": "markdown",
   "metadata": {}
  },
  {
   "source": [
    "## 12.8. Three import statement variants\n",
    "\n",
    "The first method is generally preferred:"
   ],
   "cell_type": "markdown",
   "metadata": {}
  },
  {
   "cell_type": "code",
   "execution_count": null,
   "metadata": {},
   "outputs": [],
   "source": [
    "import math\n",
    "x = math.sqrt(10)\n",
    "\n",
    "from math import cos, sin, sqrt\n",
    "x = sqrt(10)\n",
    "\n",
    "from math import *   # Import all the identifiers from math,\n",
    "                     #   adding them to the current namespace.\n",
    "x = sqrt(10)         # Use them without qualification.\n",
    "\n",
    "import math as m\n",
    "m.pi"
   ]
  },
  {
   "source": [
    "# Chapter 13 Files\n",
    "\n"
   ],
   "cell_type": "markdown",
   "metadata": {}
  }
 ]
}